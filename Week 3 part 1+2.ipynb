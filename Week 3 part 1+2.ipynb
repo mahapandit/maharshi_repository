{
    "cells": [
        {
            "cell_type": "markdown",
            "metadata": {},
            "source": "## IBM Data Science Capstone \nWeek 3 submission "
        },
        {
            "cell_type": "code",
            "execution_count": 1,
            "metadata": {},
            "outputs": [],
            "source": "from bs4 import BeautifulSoup\nimport requests\nimport pandas as pd\nimport numpy as np"
        },
        {
            "cell_type": "markdown",
            "metadata": {},
            "source": "Here, i am  downloading the data in first two line of code.\nIn next 3 lines, i have initialised the variable that we will be using in this cell\nAfter that, I have assinged the html file data to soup variable and with the hel of nested for loop, I have assigned it to variable that we defined earlier "
        },
        {
            "cell_type": "code",
            "execution_count": 2,
            "metadata": {},
            "outputs": [
                {
                    "name": "stdout",
                    "output_type": "stream",
                    "text": "Data downloaded!\n"
                }
            ],
            "source": "!wget -q -O 'sample.html' https://en.wikipedia.org/wiki/List_of_postal_codes_of_Canada:_M\nprint('Data downloaded!')\npostcode =[]\nborough=[]\nneighbourhood=[]\nwith open('sample.html') as Sampledata:\n    soup = BeautifulSoup(Sampledata , 'lxml')\ntable = soup.find('table')\ndata=[]\nfor row in table.find_all('tr'):\n    for cell in row.find_all('td'):\n        data.append(cell.text)\n    if(len(data)>1):\n        postcode.append(data[0])\n        borough.append(data[1])\n        neighbourhood.append(data[2].rstrip('\\n'))\n    data=[]"
        },
        {
            "cell_type": "markdown",
            "metadata": {},
            "source": "As all the data are stored in variables, i have now created a dataframe to store the data.\nThen removed Not assigned values from Borough and changed the Not assignes value of neighbourhood into same as that of corrosponding borough."
        },
        {
            "cell_type": "code",
            "execution_count": 3,
            "metadata": {},
            "outputs": [
                {
                    "name": "stdout",
                    "output_type": "stream",
                    "text": "  Postal Code      Borough                         Neighbourhood\n0         M1B  Scarborough                         Rouge,Malvern\n1         M1C  Scarborough  Highland Creek,Rouge Hill,Port Union\n2         M1E  Scarborough       Guildwood,Morningside,West Hill\n3         M1G  Scarborough                                Woburn\n4         M1H  Scarborough                             Cedarbrae\n"
                }
            ],
            "source": "canada_df=pd.DataFrame({\"Postal Code\": postcode, \"Borough\" : borough, \"Neighbourhood\" : neighbourhood})\ncanada_df['Borough'].replace('Not assigned',np.nan,inplace=True)\nmod_canada_df= canada_df.groupby(['Postal Code','Borough'], as_index=False).agg(lambda x: ','.join(x))\nfor index, row in mod_canada_df.iterrows():\n    if row[\"Neighbourhood\"] == \"Not assigned\":\n        row[\"Neighbourhood\"] = row[\"Borough\"]\nprint(mod_canada_df.head())"
        },
        {
            "cell_type": "markdown",
            "metadata": {},
            "source": "Final Shape of the data frame as output"
        },
        {
            "cell_type": "code",
            "execution_count": 4,
            "metadata": {},
            "outputs": [
                {
                    "name": "stdout",
                    "output_type": "stream",
                    "text": "(103, 3)\n"
                }
            ],
            "source": "print(mod_canada_df.shape)"
        },
        {
            "cell_type": "markdown",
            "metadata": {},
            "source": "Now we are going to insert latitude and longitude data into the our dataframe and then we will join both the data frame"
        },
        {
            "cell_type": "code",
            "execution_count": 5,
            "metadata": {},
            "outputs": [
                {
                    "data": {
                        "text/html": "<div>\n<style scoped>\n    .dataframe tbody tr th:only-of-type {\n        vertical-align: middle;\n    }\n\n    .dataframe tbody tr th {\n        vertical-align: top;\n    }\n\n    .dataframe thead th {\n        text-align: right;\n    }\n</style>\n<table border=\"1\" class=\"dataframe\">\n  <thead>\n    <tr style=\"text-align: right;\">\n      <th></th>\n      <th>Postal Code</th>\n      <th>Latitude</th>\n      <th>Longitude</th>\n    </tr>\n  </thead>\n  <tbody>\n    <tr>\n      <th>0</th>\n      <td>M1B</td>\n      <td>43.806686</td>\n      <td>-79.194353</td>\n    </tr>\n    <tr>\n      <th>1</th>\n      <td>M1C</td>\n      <td>43.784535</td>\n      <td>-79.160497</td>\n    </tr>\n    <tr>\n      <th>2</th>\n      <td>M1E</td>\n      <td>43.763573</td>\n      <td>-79.188711</td>\n    </tr>\n    <tr>\n      <th>3</th>\n      <td>M1G</td>\n      <td>43.770992</td>\n      <td>-79.216917</td>\n    </tr>\n    <tr>\n      <th>4</th>\n      <td>M1H</td>\n      <td>43.773136</td>\n      <td>-79.239476</td>\n    </tr>\n  </tbody>\n</table>\n</div>",
                        "text/plain": "  Postal Code   Latitude  Longitude\n0         M1B  43.806686 -79.194353\n1         M1C  43.784535 -79.160497\n2         M1E  43.763573 -79.188711\n3         M1G  43.770992 -79.216917\n4         M1H  43.773136 -79.239476"
                    },
                    "execution_count": 5,
                    "metadata": {},
                    "output_type": "execute_result"
                }
            ],
            "source": "map_data=pd.read_csv(\"https://cocl.us/Geospatial_data\")\nmap_data.head()"
        },
        {
            "cell_type": "code",
            "execution_count": 6,
            "metadata": {},
            "outputs": [
                {
                    "data": {
                        "text/html": "<div>\n<style scoped>\n    .dataframe tbody tr th:only-of-type {\n        vertical-align: middle;\n    }\n\n    .dataframe tbody tr th {\n        vertical-align: top;\n    }\n\n    .dataframe thead th {\n        text-align: right;\n    }\n</style>\n<table border=\"1\" class=\"dataframe\">\n  <thead>\n    <tr style=\"text-align: right;\">\n      <th></th>\n      <th>Postal Code</th>\n      <th>Borough</th>\n      <th>Neighbourhood</th>\n      <th>Latitude</th>\n      <th>Longitude</th>\n    </tr>\n  </thead>\n  <tbody>\n    <tr>\n      <th>0</th>\n      <td>M1B</td>\n      <td>Scarborough</td>\n      <td>Rouge,Malvern</td>\n      <td>43.806686</td>\n      <td>-79.194353</td>\n    </tr>\n    <tr>\n      <th>1</th>\n      <td>M1C</td>\n      <td>Scarborough</td>\n      <td>Highland Creek,Rouge Hill,Port Union</td>\n      <td>43.784535</td>\n      <td>-79.160497</td>\n    </tr>\n    <tr>\n      <th>2</th>\n      <td>M1E</td>\n      <td>Scarborough</td>\n      <td>Guildwood,Morningside,West Hill</td>\n      <td>43.763573</td>\n      <td>-79.188711</td>\n    </tr>\n    <tr>\n      <th>3</th>\n      <td>M1G</td>\n      <td>Scarborough</td>\n      <td>Woburn</td>\n      <td>43.770992</td>\n      <td>-79.216917</td>\n    </tr>\n    <tr>\n      <th>4</th>\n      <td>M1H</td>\n      <td>Scarborough</td>\n      <td>Cedarbrae</td>\n      <td>43.773136</td>\n      <td>-79.239476</td>\n    </tr>\n  </tbody>\n</table>\n</div>",
                        "text/plain": "  Postal Code      Borough                         Neighbourhood   Latitude  \\\n0         M1B  Scarborough                         Rouge,Malvern  43.806686   \n1         M1C  Scarborough  Highland Creek,Rouge Hill,Port Union  43.784535   \n2         M1E  Scarborough       Guildwood,Morningside,West Hill  43.763573   \n3         M1G  Scarborough                                Woburn  43.770992   \n4         M1H  Scarborough                             Cedarbrae  43.773136   \n\n   Longitude  \n0 -79.194353  \n1 -79.160497  \n2 -79.188711  \n3 -79.216917  \n4 -79.239476  "
                    },
                    "execution_count": 6,
                    "metadata": {},
                    "output_type": "execute_result"
                }
            ],
            "source": "final_table = mod_canada_df.set_index('Postal Code').join(map_data.set_index('Postal Code'))\nfinal_table = final_table.reset_index(drop=False)\nfinal_table.head()"
        }
    ],
    "metadata": {
        "kernelspec": {
            "display_name": "Python 3.6",
            "language": "python",
            "name": "python3"
        },
        "language_info": {
            "codemirror_mode": {
                "name": "ipython",
                "version": 3
            },
            "file_extension": ".py",
            "mimetype": "text/x-python",
            "name": "python",
            "nbconvert_exporter": "python",
            "pygments_lexer": "ipython3",
            "version": "3.6.8"
        }
    },
    "nbformat": 4,
    "nbformat_minor": 1
}