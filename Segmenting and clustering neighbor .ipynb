{
    "cells": [
        {
            "metadata": {},
            "cell_type": "markdown",
            "source": "## IBM Data Science Capstone \nWeek 3 submission "
        },
        {
            "metadata": {},
            "cell_type": "code",
            "source": "from bs4 import BeautifulSoup\nimport requests\nimport pandas as pd\nimport numpy as np",
            "execution_count": 11,
            "outputs": []
        },
        {
            "metadata": {},
            "cell_type": "markdown",
            "source": "Here, i am  downloading the data in first two line of code.\nIn next 3 lines, i have initialised the variable that we will be using in this cell\nAfter that, I have assinged the html file data to soup variable and with the hel of nested for loop, I have assigned it to variable that we defined earlier "
        },
        {
            "metadata": {},
            "cell_type": "code",
            "source": "!wget -q -O 'sample.html' https://en.wikipedia.org/wiki/List_of_postal_codes_of_Canada:_M\nprint('Data downloaded!')\npostcode =[]\nborough=[]\nneighbourhood=[]\nwith open('sample.html') as Sampledata:\n    soup = BeautifulSoup(Sampledata , 'lxml')\ntable = soup.find('table')\ndata=[]\nfor row in table.find_all('tr'):\n    for cell in row.find_all('td'):\n        data.append(cell.text)\n    if(len(data)>1):\n        postcode.append(data[0])\n        borough.append(data[1])\n        neighbourhood.append(data[2].rstrip('\\n'))\n    data=[]",
            "execution_count": 2,
            "outputs": [
                {
                    "output_type": "stream",
                    "text": "Data downloaded!\n",
                    "name": "stdout"
                }
            ]
        },
        {
            "metadata": {},
            "cell_type": "markdown",
            "source": "As all the data are stored in variables, i have now created a dataframe to store the data.\nThen removed Not assigned values from Borough and changed the Not assignes value of neighbourhood into same as that of corrosponding borough."
        },
        {
            "metadata": {},
            "cell_type": "code",
            "source": "canada_df=pd.DataFrame({\"Postal Code\": postcode, \"Borough\" : borough, \"Neighbourhood\" : neighbourhood})\ncanada_df['Borough'].replace('Not assigned',np.nan,inplace=True)\nmod_canada_df= canada_df.groupby(['Postal Code','Borough'], as_index=False).agg(lambda x: ','.join(x))\nfor index, row in mod_canada_df.iterrows():\n    if row[\"Neighbourhood\"] == \"Not assigned\":\n        row[\"Neighbourhood\"] = row[\"Borough\"]\nprint(mod_canada_df.head())",
            "execution_count": 9,
            "outputs": [
                {
                    "output_type": "stream",
                    "text": "  Postal Code      Borough                         Neighbourhood\n0         M1B  Scarborough                         Rouge,Malvern\n1         M1C  Scarborough  Highland Creek,Rouge Hill,Port Union\n2         M1E  Scarborough       Guildwood,Morningside,West Hill\n3         M1G  Scarborough                                Woburn\n4         M1H  Scarborough                             Cedarbrae\n(103, 3)\n",
                    "name": "stdout"
                }
            ]
        },
        {
            "metadata": {},
            "cell_type": "code",
            "source": "print(mod_canada_df.shape)",
            "execution_count": 10,
            "outputs": [
                {
                    "output_type": "stream",
                    "text": "(103, 3)\n",
                    "name": "stdout"
                }
            ]
        },
        {
            "metadata": {},
            "cell_type": "code",
            "source": "",
            "execution_count": null,
            "outputs": []
        }
    ],
    "metadata": {
        "kernelspec": {
            "name": "python3",
            "display_name": "Python 3.6",
            "language": "python"
        },
        "language_info": {
            "name": "python",
            "version": "3.6.8",
            "mimetype": "text/x-python",
            "codemirror_mode": {
                "name": "ipython",
                "version": 3
            },
            "pygments_lexer": "ipython3",
            "nbconvert_exporter": "python",
            "file_extension": ".py"
        }
    },
    "nbformat": 4,
    "nbformat_minor": 1
}